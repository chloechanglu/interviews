{
 "cells": [
  {
   "cell_type": "code",
   "execution_count": 1,
   "id": "b2b05a91-a202-4dd0-a532-6d9154a0fe6c",
   "metadata": {},
   "outputs": [
    {
     "name": "stdout",
     "output_type": "stream",
     "text": [
      "<class 'str'>\n"
     ]
    }
   ],
   "source": [
    "#Step 1: Data Transformation\n",
    "import pandas as pd\n",
    "file_path='/Users/chloe/Desktop/patient_id_month_year - patient_id_month_year.csv'\n",
    "df=pd.read_csv(file_path)\n",
    "\n",
    "#check month_year format\n",
    "print(type(df.loc[0, 'month_year']))"
   ]
  },
  {
   "cell_type": "code",
   "execution_count": 2,
   "id": "561e96af-9ff0-44d1-8659-8ae7701633c2",
   "metadata": {},
   "outputs": [],
   "source": [
    "#convert month_year from string to date time format \n",
    "df['month_year']=pd.to_datetime(df['month_year'])\n",
    "\n",
    "#sort values before calculate date gaps\n",
    "df=df.sort_values(['patient_id', 'month_year'])"
   ]
  },
  {
   "cell_type": "code",
   "execution_count": 3,
   "id": "915e576a-9feb-4e17-9d4b-ea0664aa7c0f",
   "metadata": {},
   "outputs": [
    {
     "name": "stdout",
     "output_type": "stream",
     "text": [
      "     patient_id month_year  break\n",
      "0        ID0001 2023-01-01  False\n",
      "1        ID0001 2023-02-01  False\n",
      "2        ID0001 2023-03-01  False\n",
      "3        ID0001 2023-06-01   True\n",
      "4        ID0001 2023-08-01   True\n",
      "...         ...        ...    ...\n",
      "7304     ID1000 2023-02-01  False\n",
      "7305     ID1000 2023-05-01   True\n",
      "7306     ID1000 2023-07-01   True\n",
      "7307     ID1000 2023-10-01   True\n",
      "7308     ID1000 2023-11-01  False\n",
      "\n",
      "[7309 rows x 3 columns]\n"
     ]
    }
   ],
   "source": [
    "#Create an episode break indicator called 'break'\n",
    "#for each patient_id, convert the month_year to a period, then calculate the month difference of month_year between the current row and previous row. \n",
    "#Transform the month difference calculation result to an integer \n",
    "#For the first row of each new patient_id, the difference will be null. Replace the null with 1 so it doesn't falsely identify as a break point. \n",
    "#If the difference doesn't equal to 1, label that row as a break point \n",
    "df['break']=df.groupby('patient_id')['month_year'].transform(lambda s:s.dt.to_period('M').astype(int).diff().fillna(1).ne(1))\n",
    "print(df)"
   ]
  },
  {
   "cell_type": "code",
   "execution_count": 4,
   "id": "234d65ff-f38d-4ba9-858a-1f4a29d1a3ec",
   "metadata": {},
   "outputs": [
    {
     "name": "stdout",
     "output_type": "stream",
     "text": [
      "     patient_id month_year  break  episode_id\n",
      "0        ID0001 2023-01-01  False           0\n",
      "1        ID0001 2023-02-01  False           0\n",
      "2        ID0001 2023-03-01  False           0\n",
      "3        ID0001 2023-06-01   True           1\n",
      "4        ID0001 2023-08-01   True           2\n",
      "...         ...        ...    ...         ...\n",
      "7304     ID1000 2023-02-01  False           0\n",
      "7305     ID1000 2023-05-01   True           1\n",
      "7306     ID1000 2023-07-01   True           2\n",
      "7307     ID1000 2023-10-01   True           3\n",
      "7308     ID1000 2023-11-01  False           3\n",
      "\n",
      "[7309 rows x 4 columns]\n"
     ]
    }
   ],
   "source": [
    "#for each patient_id, assign each episode an ID \n",
    "df['episode_id']=df.groupby('patient_id')['break'].cumsum()\n",
    "print(df)"
   ]
  },
  {
   "cell_type": "code",
   "execution_count": 5,
   "id": "93d008e4-2d63-4943-9796-fec3c3e5e527",
   "metadata": {},
   "outputs": [],
   "source": [
    "#for each patient_id and enrollment episode, calculate the first and last month \n",
    "#then reset the index, drop episode_id column as it's no longer needed \n",
    "span=(df.groupby(['patient_id', 'episode_id']).agg(enrollment_start_date=('month_year', 'min'),enrollment_end_date=('month_year', 'max')).\n",
    "    reset_index().drop(columns='episode_id'))"
   ]
  },
  {
   "cell_type": "code",
   "execution_count": 6,
   "id": "c426e9d2-24b2-4102-931f-90c17d7d2af5",
   "metadata": {},
   "outputs": [
    {
     "name": "stdout",
     "output_type": "stream",
     "text": [
      "     patient_id enrollment_start_date enrollment_end_date\n",
      "0        ID0001            2023-01-01          2023-03-31\n",
      "1        ID0001            2023-06-01          2023-06-30\n",
      "2        ID0001            2023-08-01          2023-08-31\n",
      "3        ID0001            2023-11-01          2023-12-31\n",
      "4        ID0002            2023-02-01          2023-04-30\n",
      "...         ...                   ...                 ...\n",
      "3100     ID0999            2023-12-01          2023-12-31\n",
      "3101     ID1000            2023-02-01          2023-02-28\n",
      "3102     ID1000            2023-05-01          2023-05-31\n",
      "3103     ID1000            2023-07-01          2023-07-31\n",
      "3104     ID1000            2023-10-01          2023-11-30\n",
      "\n",
      "[3105 rows x 3 columns]\n"
     ]
    }
   ],
   "source": [
    "#take the last day of each enrollment_end_date \n",
    "span['enrollment_end_date']=span['enrollment_end_date']+pd.offsets.MonthEnd(0)\n",
    "print(span)"
   ]
  },
  {
   "cell_type": "code",
   "execution_count": 7,
   "id": "54c2cfd9-2955-4a38-92b4-259624c56597",
   "metadata": {},
   "outputs": [],
   "source": [
    "#save output to csv \n",
    "span.to_csv(\"/Users/chloe/Desktop/patient_enrollment_span.csv\",index=False)\n",
    "#3105 rows "
   ]
  },
  {
   "cell_type": "code",
   "execution_count": 8,
   "id": "6552cb14-d924-492f-b1b1-560ddb184bc9",
   "metadata": {},
   "outputs": [
    {
     "name": "stdout",
     "output_type": "stream",
     "text": [
      "      patient_id        date  outpatient_visit_count\n",
      "0         ID0001    1/3/2023                       2\n",
      "1         ID0001    1/8/2023                       2\n",
      "2         ID0001    1/9/2023                       2\n",
      "3         ID0001   1/15/2023                       2\n",
      "4         ID0001   1/21/2023                       4\n",
      "...          ...         ...                     ...\n",
      "15323     ID0980  11/25/2023                       2\n",
      "15324     ID0980  10/20/2023                       1\n",
      "15325     ID0980    4/4/2023                       1\n",
      "15326     ID0980   7/26/2023                       4\n",
      "15327     ID0980   2/11/2023                       4\n",
      "\n",
      "[15328 rows x 3 columns]\n"
     ]
    }
   ],
   "source": [
    "#Step 2: Data Aggregation\n",
    "#load outpatient_visits_file\n",
    "file_path2='/Users/chloe/Desktop/outpatient_visits_file - outpatient_visits_file.csv'\n",
    "op=pd.read_csv(file_path2)\n",
    "print(op)"
   ]
  },
  {
   "cell_type": "code",
   "execution_count": 9,
   "id": "3f9939a5-54cd-4d1d-9729-f18879300f6a",
   "metadata": {},
   "outputs": [
    {
     "name": "stdout",
     "output_type": "stream",
     "text": [
      "<class 'str'>\n",
      "<class 'numpy.int64'>\n"
     ]
    }
   ],
   "source": [
    "#check date column type \n",
    "print(type(op.loc[0, 'date']))\n",
    "print(type(op.loc[0, 'outpatient_visit_count']))"
   ]
  },
  {
   "cell_type": "code",
   "execution_count": 10,
   "id": "33a33af0-3c85-44bf-8d89-f0c182e9961a",
   "metadata": {},
   "outputs": [
    {
     "data": {
      "text/plain": [
       "enrollment_start_date    datetime64[ns]\n",
       "enrollment_end_date      datetime64[ns]\n",
       "dtype: object"
      ]
     },
     "execution_count": 10,
     "metadata": {},
     "output_type": "execute_result"
    }
   ],
   "source": [
    "#check enorllment date column type \n",
    "span[['enrollment_start_date', 'enrollment_end_date']].dtypes"
   ]
  },
  {
   "cell_type": "code",
   "execution_count": 11,
   "id": "59ef294a-6724-43bc-929d-d5677ed2bf08",
   "metadata": {},
   "outputs": [],
   "source": [
    "#convert date from string to datetime format \n",
    "op['date']=pd.to_datetime(op['date'])"
   ]
  },
  {
   "cell_type": "code",
   "execution_count": 12,
   "id": "e7dec3de-e290-4929-8d08-6d6ba626ffc9",
   "metadata": {},
   "outputs": [],
   "source": [
    "#join span and op on patient_id and requires visit date between enrollment start date and end date \n",
    "filtered=span.merge(op, on='patient_id').query('enrollment_start_date <= date <= enrollment_end_date')"
   ]
  },
  {
   "cell_type": "code",
   "execution_count": 13,
   "id": "e0ad0ad8-a1e6-441d-8808-eeabe3758c71",
   "metadata": {},
   "outputs": [
    {
     "name": "stdout",
     "output_type": "stream",
     "text": [
      "     patient_id enrollment_start_date enrollment_end_date  \\\n",
      "0        ID0001            2023-01-01          2023-03-31   \n",
      "1        ID0001            2023-06-01          2023-06-30   \n",
      "2        ID0001            2023-08-01          2023-08-31   \n",
      "3        ID0001            2023-11-01          2023-12-31   \n",
      "4        ID0002            2023-02-01          2023-04-30   \n",
      "...         ...                   ...                 ...   \n",
      "2025     ID0980            2023-02-01          2023-02-28   \n",
      "2026     ID0980            2023-04-01          2023-04-30   \n",
      "2027     ID0980            2023-07-01          2023-07-31   \n",
      "2028     ID0980            2023-09-01          2023-09-30   \n",
      "2029     ID0980            2023-11-01          2023-12-31   \n",
      "\n",
      "      ct_days_with_outpatient_visit  ct_outpatient_visits  \n",
      "0                                 8                    17  \n",
      "1                                 2                     6  \n",
      "2                                 2                     6  \n",
      "3                                 3                     5  \n",
      "4                                 7                    19  \n",
      "...                             ...                   ...  \n",
      "2025                              1                     4  \n",
      "2026                              1                     1  \n",
      "2027                              1                     4  \n",
      "2028                              1                     3  \n",
      "2029                              2                     5  \n",
      "\n",
      "[2030 rows x 5 columns]\n"
     ]
    }
   ],
   "source": [
    "#aggregate the output: count unique days with op visit per patient per enrollement period; sum up visit count per patient per enrollment period \n",
    "result=(filtered.groupby(['patient_id', 'enrollment_start_date', 'enrollment_end_date'])\n",
    "                .agg(ct_days_with_outpatient_visit=('date', 'nunique'),ct_outpatient_visits=('outpatient_visit_count', 'sum'))\n",
    "                .reset_index()\n",
    "                .sort_values(['patient_id','enrollment_start_date','enrollment_end_date'])\n",
    "       )\n",
    "print(result)"
   ]
  },
  {
   "cell_type": "code",
   "execution_count": 14,
   "id": "bb116dfa-072a-422b-8de1-db2797be45d6",
   "metadata": {},
   "outputs": [],
   "source": [
    "#save result to csv \n",
    "result.to_csv(\"/Users/chloe/Desktop/result.csv\",index=False)"
   ]
  },
  {
   "cell_type": "code",
   "execution_count": 15,
   "id": "6506e84d-0e80-43c8-8bd7-006021effa80",
   "metadata": {},
   "outputs": [
    {
     "name": "stdout",
     "output_type": "stream",
     "text": [
      "32\n"
     ]
    }
   ],
   "source": [
    "#count unique values ct_days_with_outpatient_visit \n",
    "unique_counts=result['ct_days_with_outpatient_visit'].nunique()\n",
    "print(unique_counts) "
   ]
  },
  {
   "cell_type": "code",
   "execution_count": null,
   "id": "6c8a7619-4838-4f67-bfc4-ed0b336aa5b8",
   "metadata": {},
   "outputs": [],
   "source": []
  }
 ],
 "metadata": {
  "kernelspec": {
   "display_name": "Python 3 (ipykernel)",
   "language": "python",
   "name": "python3"
  },
  "language_info": {
   "codemirror_mode": {
    "name": "ipython",
    "version": 3
   },
   "file_extension": ".py",
   "mimetype": "text/x-python",
   "name": "python",
   "nbconvert_exporter": "python",
   "pygments_lexer": "ipython3",
   "version": "3.13.3"
  }
 },
 "nbformat": 4,
 "nbformat_minor": 5
}
